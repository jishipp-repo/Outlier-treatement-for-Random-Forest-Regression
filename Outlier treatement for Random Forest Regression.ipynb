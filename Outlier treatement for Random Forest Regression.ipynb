{
 "cells": [
  {
   "cell_type": "markdown",
   "metadata": {},
   "source": [
    "# Outlier treatement for Random Forest Regression"
   ]
  },
  {
   "cell_type": "markdown",
   "metadata": {},
   "source": [
    "Random Forest is an ensemble method which uses the average of all the individual tree's (weak learners) prediction value. In most cases there would be some tree's which are producing poor results (worst learners). The method described below can be used to remove those outliers from the results thus a better prediction value can be obtained."
   ]
  },
  {
   "cell_type": "code",
   "execution_count": 1,
   "metadata": {},
   "outputs": [],
   "source": [
    "# Improrting libaries\n",
    "import numpy as np\n",
    "from sklearn.ensemble import RandomForestRegressor\n",
    "from sklearn.pipeline import Pipeline\n",
    "from sklearn.preprocessing import StandardScaler\n",
    "import matplotlib.pyplot as plt"
   ]
  },
  {
   "cell_type": "code",
   "execution_count": 2,
   "metadata": {},
   "outputs": [],
   "source": [
    "# Dataset\n",
    "n_samples, n_features = 10, 5\n",
    "rng = np.random.RandomState(0)\n",
    "y = rng.randn(n_samples)\n",
    "X = rng.randn(n_samples, n_features)\n",
    "\n",
    "# Model Training\n",
    "algo = RandomForestRegressor(random_state=0, n_jobs=-1)\n",
    "model_RF_pl = Pipeline([('standardize',StandardScaler()),('rf',algo)])\n",
    "model_RF_sk = model_RF_pl.fit(X, y)"
   ]
  },
  {
   "cell_type": "code",
   "execution_count": 4,
   "metadata": {},
   "outputs": [],
   "source": [
    "# Function to remove the outlier values (outside 1.5*IQR) from a list\n",
    "def remove_outlierIQR(data):\n",
    "    try:\n",
    "        Q1 = np.percentile(data, 25, interpolation = 'midpoint')\n",
    "        Q3 = np.percentile(data, 75, interpolation = 'midpoint')\n",
    "        IQR = Q3 - Q1\n",
    "        LB = Q1 - 1.5*IQR\n",
    "        UB = Q3 + 1.5*IQR\n",
    "        data_f = [x for x  in data if (x <= UB and x >= LB)]\n",
    "    except Exception as error:\n",
    "        data_f = [x for x  in data]\n",
    "    return data_f\n",
    "\n",
    "# Function to find the average of predictions after removing the outlier predictions if any.\n",
    "def predict_meannooutIQR(model_p, X_Data):\n",
    "    pred_l = []\n",
    "    for mod in model_p[1].estimators_:\n",
    "        pred_l.append(mod.predict((model_p[0].transform(X_Data.reshape(1, -1))))[0])\n",
    "    final_pred = remove_outlierIQR(pred_l)\n",
    "    return np.mean(final_pred)\n",
    "\n",
    "# Function to get all the individual tree predictions.\n",
    "def get_all_tree_predictions(model_p, X_Data):\n",
    "    pred_l = []\n",
    "    for mod in model_p[1].estimators_:\n",
    "        pred_l.append(mod.predict((model_p[0].transform(X_Data.reshape(1, -1))))[0])\n",
    "    return pred_l\n",
    "\n",
    "# Function to get all the individual tree predictions after removing outliers.\n",
    "def get_all_tree_predictions_outlier_removed(model_p, X_Data):\n",
    "    pred_l = []\n",
    "    for mod in model_p[1].estimators_:\n",
    "        pred_l.append(mod.predict((model_p[0].transform(X_Data.reshape(1, -1))))[0])\n",
    "    fin_pred_l = remove_outlierIQR(pred_l)\n",
    "    return fin_pred_l"
   ]
  },
  {
   "cell_type": "code",
   "execution_count": 5,
   "metadata": {},
   "outputs": [
    {
     "name": "stdout",
     "output_type": "stream",
     "text": [
      "True value:  0.41059850193837233\n",
      "Scikit-learn prediction:  0.4571625573655762\n",
      "Outlier removed prediction:  0.4099355626640138\n"
     ]
    }
   ],
   "source": [
    "sample_n = 9\n",
    "\n",
    "print('True value: ', y[sample_n])\n",
    "print('Scikit-learn prediction: ', model_RF_sk.predict(X[sample_n:sample_n+1])[0])\n",
    "print('Outlier removed prediction: ', predict_meannooutIQR(model_RF_sk, X[sample_n:sample_n+1]))"
   ]
  },
  {
   "cell_type": "markdown",
   "metadata": {},
   "source": [
    "From the below two histograms, it is clear that some of the predictions which are far from the mean value needed to be removed from the ensemble to improve the accuracy."
   ]
  },
  {
   "cell_type": "code",
   "execution_count": 6,
   "metadata": {},
   "outputs": [
    {
     "data": {
      "image/png": "[encoded data removed]",
      "text/plain": [
       "<Figure size 432x288 with 1 Axes>"
      ]
     },
     "metadata": {
      "needs_background": "light"
     },
     "output_type": "display_data"
    }
   ],
   "source": [
    "pred_all = get_all_tree_predictions(model_RF_sk, X[sample_n:sample_n+1])\n",
    "\n",
    "plt.hist(pred_all, density=False, bins=30)  # density=False would make counts\n",
    "plt.title('Histogram of regular RF predictions from individual trees')\n",
    "plt.ylabel('Count')\n",
    "plt.xlabel('Data');"
   ]
  },
  {
   "cell_type": "code",
   "execution_count": 7,
   "metadata": {},
   "outputs": [
    {
     "data": {
      "image/png": "[encoded data removed]",
      "text/plain": [
       "<Figure size 432x288 with 1 Axes>"
      ]
     },
     "metadata": {
      "needs_background": "light"
     },
     "output_type": "display_data"
    }
   ],
   "source": [
    "pred_all = get_all_tree_predictions_outlier_removed(model_RF_sk, X[sample_n:sample_n+1])\n",
    "\n",
    "plt.hist(pred_all, density=False, bins=30)  # density=False would make counts\n",
    "plt.title('Histogram after removing outliers')\n",
    "plt.ylabel('Count')\n",
    "plt.xlabel('Data');"
   ]
  },
  {
   "cell_type": "code",
   "execution_count": null,
   "metadata": {},
   "outputs": [],
   "source": []
  }
 ],
 "metadata": {
  "kernelspec": {
   "display_name": "Python 3",
   "language": "python",
   "name": "python3"
  },
  "language_info": {
   "codemirror_mode": {
    "name": "ipython",
    "version": 3
   },
   "file_extension": ".py",
   "mimetype": "text/x-python",
   "name": "python",
   "nbconvert_exporter": "python",
   "pygments_lexer": "ipython3",
   "version": "3.7.4"
  }
 },
 "nbformat": 4,
 "nbformat_minor": 2
}
